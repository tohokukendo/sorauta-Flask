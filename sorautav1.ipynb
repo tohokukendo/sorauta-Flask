{
  "nbformat": 4,
  "nbformat_minor": 0,
  "metadata": {
    "colab": {
      "provenance": []
    },
    "kernelspec": {
      "name": "python3",
      "display_name": "Python 3"
    },
    "language_info": {
      "name": "python"
    }
  },
  "cells": [
    {
      "cell_type": "code",
      "execution_count": 1,
      "metadata": {
        "id": "dGIY-6k-r34N",
        "colab": {
          "base_uri": "https://localhost:8080/"
        },
        "outputId": "7aac4714-cd12-41af-b7dc-f2ec7201c159"
      },
      "outputs": [
        {
          "output_type": "stream",
          "name": "stdout",
          "text": [
            "Looking in indexes: https://pypi.org/simple, https://us-python.pkg.dev/colab-wheels/public/simple/\n",
            "Collecting flask-ngrok\n",
            "  Downloading flask_ngrok-0.0.25-py3-none-any.whl (3.1 kB)\n",
            "Requirement already satisfied: Flask>=0.8 in /usr/local/lib/python3.9/dist-packages (from flask-ngrok) (2.2.3)\n",
            "Requirement already satisfied: requests in /usr/local/lib/python3.9/dist-packages (from flask-ngrok) (2.27.1)\n",
            "Requirement already satisfied: Werkzeug>=2.2.2 in /usr/local/lib/python3.9/dist-packages (from Flask>=0.8->flask-ngrok) (2.2.3)\n",
            "Requirement already satisfied: click>=8.0 in /usr/local/lib/python3.9/dist-packages (from Flask>=0.8->flask-ngrok) (8.1.3)\n",
            "Requirement already satisfied: importlib-metadata>=3.6.0 in /usr/local/lib/python3.9/dist-packages (from Flask>=0.8->flask-ngrok) (6.0.0)\n",
            "Requirement already satisfied: itsdangerous>=2.0 in /usr/local/lib/python3.9/dist-packages (from Flask>=0.8->flask-ngrok) (2.1.2)\n",
            "Requirement already satisfied: Jinja2>=3.0 in /usr/local/lib/python3.9/dist-packages (from Flask>=0.8->flask-ngrok) (3.1.2)\n",
            "Requirement already satisfied: urllib3<1.27,>=1.21.1 in /usr/local/lib/python3.9/dist-packages (from requests->flask-ngrok) (1.26.15)\n",
            "Requirement already satisfied: certifi>=2017.4.17 in /usr/local/lib/python3.9/dist-packages (from requests->flask-ngrok) (2022.12.7)\n",
            "Requirement already satisfied: charset-normalizer~=2.0.0 in /usr/local/lib/python3.9/dist-packages (from requests->flask-ngrok) (2.0.12)\n",
            "Requirement already satisfied: idna<4,>=2.5 in /usr/local/lib/python3.9/dist-packages (from requests->flask-ngrok) (3.4)\n",
            "Requirement already satisfied: zipp>=0.5 in /usr/local/lib/python3.9/dist-packages (from importlib-metadata>=3.6.0->Flask>=0.8->flask-ngrok) (3.15.0)\n",
            "Requirement already satisfied: MarkupSafe>=2.0 in /usr/local/lib/python3.9/dist-packages (from Jinja2>=3.0->Flask>=0.8->flask-ngrok) (2.1.2)\n",
            "Installing collected packages: flask-ngrok\n",
            "Successfully installed flask-ngrok-0.0.25\n"
          ]
        }
      ],
      "source": [
        "pip install flask-ngrok"
      ]
    },
    {
      "cell_type": "code",
      "source": [
        "pip install pyngrok"
      ],
      "metadata": {
        "colab": {
          "base_uri": "https://localhost:8080/"
        },
        "id": "1rdmvJmw3e-3",
        "outputId": "e2bbde83-a94c-4bca-c8a1-1941357b3b32"
      },
      "execution_count": 2,
      "outputs": [
        {
          "output_type": "stream",
          "name": "stdout",
          "text": [
            "Looking in indexes: https://pypi.org/simple, https://us-python.pkg.dev/colab-wheels/public/simple/\n",
            "Collecting pyngrok\n",
            "  Downloading pyngrok-5.2.1.tar.gz (761 kB)\n",
            "\u001b[2K     \u001b[90m━━━━━━━━━━━━━━━━━━━━━━━━━━━━━━━━━━━━━━━\u001b[0m \u001b[32m761.3/761.3 KB\u001b[0m \u001b[31m9.3 MB/s\u001b[0m eta \u001b[36m0:00:00\u001b[0m\n",
            "\u001b[?25h  Preparing metadata (setup.py) ... \u001b[?25l\u001b[?25hdone\n",
            "Requirement already satisfied: PyYAML in /usr/local/lib/python3.9/dist-packages (from pyngrok) (6.0)\n",
            "Building wheels for collected packages: pyngrok\n",
            "  Building wheel for pyngrok (setup.py) ... \u001b[?25l\u001b[?25hdone\n",
            "  Created wheel for pyngrok: filename=pyngrok-5.2.1-py3-none-any.whl size=19790 sha256=2838e1a728a472ddfba615bfff2d8afec3a4fc58ef4f3ebc390fc4187ee04f33\n",
            "  Stored in directory: /root/.cache/pip/wheels/f6/89/59/49d4249e00957e94813ac136a335d10ed2e09a856c5096f95c\n",
            "Successfully built pyngrok\n",
            "Installing collected packages: pyngrok\n",
            "Successfully installed pyngrok-5.2.1\n"
          ]
        }
      ]
    },
    {
      "cell_type": "code",
      "source": [
        "!ngrok authtoken 2MlhyWSfWeorfSYkg5temmTZNtI_6PKYW1CGEyHigRACD3w6X"
      ],
      "metadata": {
        "colab": {
          "base_uri": "https://localhost:8080/"
        },
        "id": "jnIHomKw3j3X",
        "outputId": "8ce5a2f5-c16a-4ab9-edd2-5dc64ea8bd8a"
      },
      "execution_count": 3,
      "outputs": [
        {
          "output_type": "stream",
          "name": "stdout",
          "text": [
            "Authtoken saved to configuration file: /root/.ngrok2/ngrok.yml\n"
          ]
        }
      ]
    },
    {
      "cell_type": "markdown",
      "source": [
        "量子アニーリング側の処理で必要なライブラリを全てノートブック側で読み込む"
      ],
      "metadata": {
        "id": "fHAc9TYijLxO"
      }
    },
    {
      "cell_type": "code",
      "source": [
        "pip install openjij"
      ],
      "metadata": {
        "id": "0o4-FsYXjiBL",
        "colab": {
          "base_uri": "https://localhost:8080/"
        },
        "outputId": "f7f67841-6ddf-4568-f1a2-c064acf7f901"
      },
      "execution_count": 4,
      "outputs": [
        {
          "output_type": "stream",
          "name": "stdout",
          "text": [
            "Looking in indexes: https://pypi.org/simple, https://us-python.pkg.dev/colab-wheels/public/simple/\n",
            "Collecting openjij\n",
            "  Downloading openjij-0.6.16-cp39-cp39-manylinux_2_28_x86_64.whl (12.6 MB)\n",
            "\u001b[2K     \u001b[90m━━━━━━━━━━━━━━━━━━━━━━━━━━━━━━━━━━━━━━━━\u001b[0m \u001b[32m12.6/12.6 MB\u001b[0m \u001b[31m39.1 MB/s\u001b[0m eta \u001b[36m0:00:00\u001b[0m\n",
            "\u001b[?25hCollecting requests<2.29.0,>=2.28.0\n",
            "  Downloading requests-2.28.2-py3-none-any.whl (62 kB)\n",
            "\u001b[2K     \u001b[90m━━━━━━━━━━━━━━━━━━━━━━━━━━━━━━━━━━━━━━━━\u001b[0m \u001b[32m62.8/62.8 KB\u001b[0m \u001b[31m2.5 MB/s\u001b[0m eta \u001b[36m0:00:00\u001b[0m\n",
            "\u001b[?25hRequirement already satisfied: numpy<1.25.0,>=1.17.3 in /usr/local/lib/python3.9/dist-packages (from openjij) (1.22.4)\n",
            "Requirement already satisfied: scipy<1.11.0,>=1.7.3 in /usr/local/lib/python3.9/dist-packages (from openjij) (1.10.1)\n",
            "Collecting jij-cimod<1.5.0,>=1.4.42\n",
            "  Downloading jij_cimod-1.4.53-cp39-cp39-manylinux_2_28_x86_64.whl (11.7 MB)\n",
            "\u001b[2K     \u001b[90m━━━━━━━━━━━━━━━━━━━━━━━━━━━━━━━━━━━━━━━━\u001b[0m \u001b[32m11.7/11.7 MB\u001b[0m \u001b[31m60.8 MB/s\u001b[0m eta \u001b[36m0:00:00\u001b[0m\n",
            "\u001b[?25hRequirement already satisfied: typing-extensions>=4.2.0 in /usr/local/lib/python3.9/dist-packages (from openjij) (4.5.0)\n",
            "Collecting dimod<0.13.0\n",
            "  Downloading dimod-0.12.4-cp39-cp39-manylinux_2_17_x86_64.manylinux2014_x86_64.whl (15.8 MB)\n",
            "\u001b[2K     \u001b[90m━━━━━━━━━━━━━━━━━━━━━━━━━━━━━━━━━━━━━━━━\u001b[0m \u001b[32m15.8/15.8 MB\u001b[0m \u001b[31m45.3 MB/s\u001b[0m eta \u001b[36m0:00:00\u001b[0m\n",
            "\u001b[?25hRequirement already satisfied: idna<4,>=2.5 in /usr/local/lib/python3.9/dist-packages (from requests<2.29.0,>=2.28.0->openjij) (3.4)\n",
            "Requirement already satisfied: charset-normalizer<4,>=2 in /usr/local/lib/python3.9/dist-packages (from requests<2.29.0,>=2.28.0->openjij) (2.0.12)\n",
            "Requirement already satisfied: certifi>=2017.4.17 in /usr/local/lib/python3.9/dist-packages (from requests<2.29.0,>=2.28.0->openjij) (2022.12.7)\n",
            "Requirement already satisfied: urllib3<1.27,>=1.21.1 in /usr/local/lib/python3.9/dist-packages (from requests<2.29.0,>=2.28.0->openjij) (1.26.15)\n",
            "Installing collected packages: requests, dimod, jij-cimod, openjij\n",
            "  Attempting uninstall: requests\n",
            "    Found existing installation: requests 2.27.1\n",
            "    Uninstalling requests-2.27.1:\n",
            "      Successfully uninstalled requests-2.27.1\n",
            "Successfully installed dimod-0.12.4 jij-cimod-1.4.53 openjij-0.6.16 requests-2.28.2\n"
          ]
        }
      ]
    },
    {
      "cell_type": "code",
      "source": [
        "pip install dwave-ocean-sdk"
      ],
      "metadata": {
        "id": "MSJSsfo0iU_8",
        "colab": {
          "base_uri": "https://localhost:8080/"
        },
        "outputId": "de6c3292-a41f-48f8-e12e-fa6a557665e7"
      },
      "execution_count": 5,
      "outputs": [
        {
          "output_type": "stream",
          "name": "stdout",
          "text": [
            "Looking in indexes: https://pypi.org/simple, https://us-python.pkg.dev/colab-wheels/public/simple/\n",
            "Collecting dwave-ocean-sdk\n",
            "  Downloading dwave_ocean_sdk-6.3.0-py3-none-any.whl (8.5 kB)\n",
            "Collecting dwave-inspector==0.4.1\n",
            "  Downloading dwave_inspector-0.4.1-py3-none-any.whl (31 kB)\n",
            "Collecting dwave-greedy==0.3.0\n",
            "  Downloading dwave_greedy-0.3.0-py3-none-any.whl (10 kB)\n",
            "Collecting dwave-system==1.18.0\n",
            "  Downloading dwave_system-1.18.0-py3-none-any.whl (103 kB)\n",
            "\u001b[2K     \u001b[90m━━━━━━━━━━━━━━━━━━━━━━━━━━━━━━━━━━━━━━━\u001b[0m \u001b[32m103.5/103.5 KB\u001b[0m \u001b[31m5.5 MB/s\u001b[0m eta \u001b[36m0:00:00\u001b[0m\n",
            "\u001b[?25hCollecting dwave-tabu==0.5.0\n",
            "  Downloading dwave_tabu-0.5.0-py3-none-any.whl (9.2 kB)\n",
            "Collecting dwavebinarycsp==0.2.0\n",
            "  Downloading dwavebinarycsp-0.2.0-py3-none-any.whl (35 kB)\n",
            "Collecting minorminer==0.2.11\n",
            "  Downloading minorminer-0.2.11-cp39-cp39-manylinux_2_17_x86_64.manylinux2014_x86_64.whl (10.1 MB)\n",
            "\u001b[2K     \u001b[90m━━━━━━━━━━━━━━━━━━━━━━━━━━━━━━━━━━━━━━━━\u001b[0m \u001b[32m10.1/10.1 MB\u001b[0m \u001b[31m59.8 MB/s\u001b[0m eta \u001b[36m0:00:00\u001b[0m\n",
            "\u001b[?25hCollecting dwave-preprocessing==0.5.4\n",
            "  Downloading dwave_preprocessing-0.5.4-cp39-cp39-manylinux_2_17_x86_64.manylinux2014_x86_64.whl (3.6 MB)\n",
            "\u001b[2K     \u001b[90m━━━━━━━━━━━━━━━━━━━━━━━━━━━━━━━━━━━━━━━━\u001b[0m \u001b[32m3.6/3.6 MB\u001b[0m \u001b[31m60.5 MB/s\u001b[0m eta \u001b[36m0:00:00\u001b[0m\n",
            "\u001b[?25hCollecting dwave-cloud-client==0.10.4\n",
            "  Downloading dwave_cloud_client-0.10.4-py3-none-any.whl (111 kB)\n",
            "\u001b[2K     \u001b[90m━━━━━━━━━━━━━━━━━━━━━━━━━━━━━━━━━━━━━\u001b[0m \u001b[32m111.4/111.4 KB\u001b[0m \u001b[31m267.0 kB/s\u001b[0m eta \u001b[36m0:00:00\u001b[0m\n",
            "\u001b[?25hCollecting penaltymodel==1.0.2\n",
            "  Downloading penaltymodel-1.0.2-py3-none-any.whl (36 kB)\n",
            "Collecting dwave-networkx==0.8.13\n",
            "  Downloading dwave_networkx-0.8.13-py3-none-any.whl (102 kB)\n",
            "\u001b[2K     \u001b[90m━━━━━━━━━━━━━━━━━━━━━━━━━━━━━━━━━━━━━━━\u001b[0m \u001b[32m102.4/102.4 KB\u001b[0m \u001b[31m9.8 MB/s\u001b[0m eta \u001b[36m0:00:00\u001b[0m\n",
            "\u001b[?25hCollecting dwave-neal==0.6.0\n",
            "  Downloading dwave_neal-0.6.0-py3-none-any.whl (8.7 kB)\n",
            "Collecting pyqubo==1.4.0\n",
            "  Downloading pyqubo-1.4.0-cp39-cp39-manylinux_2_17_x86_64.manylinux2014_x86_64.whl (245 kB)\n",
            "\u001b[2K     \u001b[90m━━━━━━━━━━━━━━━━━━━━━━━━━━━━━━━━━━━━━━\u001b[0m \u001b[32m245.5/245.5 KB\u001b[0m \u001b[31m18.8 MB/s\u001b[0m eta \u001b[36m0:00:00\u001b[0m\n",
            "\u001b[?25hCollecting dimod==0.12.3\n",
            "  Downloading dimod-0.12.3-cp39-cp39-manylinux_2_17_x86_64.manylinux2014_x86_64.whl (15.8 MB)\n",
            "\u001b[2K     \u001b[90m━━━━━━━━━━━━━━━━━━━━━━━━━━━━━━━━━━━━━━━━\u001b[0m \u001b[32m15.8/15.8 MB\u001b[0m \u001b[31m42.8 MB/s\u001b[0m eta \u001b[36m0:00:00\u001b[0m\n",
            "\u001b[?25hCollecting dwave-samplers==1.0.0\n",
            "  Downloading dwave_samplers-1.0.0-cp39-cp39-manylinux_2_17_x86_64.manylinux2014_x86_64.whl (6.0 MB)\n",
            "\u001b[2K     \u001b[90m━━━━━━━━━━━━━━━━━━━━━━━━━━━━━━━━━━━━━━━━\u001b[0m \u001b[32m6.0/6.0 MB\u001b[0m \u001b[31m52.2 MB/s\u001b[0m eta \u001b[36m0:00:00\u001b[0m\n",
            "\u001b[?25hCollecting dwave-hybrid==0.6.10\n",
            "  Downloading dwave_hybrid-0.6.10-py3-none-any.whl (74 kB)\n",
            "\u001b[2K     \u001b[90m━━━━━━━━━━━━━━━━━━━━━━━━━━━━━━━━━━━━━━━━\u001b[0m \u001b[32m74.8/74.8 KB\u001b[0m \u001b[31m6.6 MB/s\u001b[0m eta \u001b[36m0:00:00\u001b[0m\n",
            "\u001b[?25hRequirement already satisfied: numpy<2.0.0,>=1.17.3 in /usr/local/lib/python3.9/dist-packages (from dimod==0.12.3->dwave-ocean-sdk) (1.22.4)\n",
            "Requirement already satisfied: requests[socks]>=2.18 in /usr/local/lib/python3.9/dist-packages (from dwave-cloud-client==0.10.4->dwave-ocean-sdk) (2.28.2)\n",
            "Requirement already satisfied: pydantic>=1.7.3 in /usr/local/lib/python3.9/dist-packages (from dwave-cloud-client==0.10.4->dwave-ocean-sdk) (1.10.6)\n",
            "Collecting plucky>=0.4.3\n",
            "  Downloading plucky-0.4.3-py2.py3-none-any.whl (10 kB)\n",
            "Requirement already satisfied: python-dateutil>=2.7 in /usr/local/lib/python3.9/dist-packages (from dwave-cloud-client==0.10.4->dwave-ocean-sdk) (2.8.2)\n",
            "Collecting diskcache>=5.2.1\n",
            "  Downloading diskcache-5.4.0-py3-none-any.whl (44 kB)\n",
            "\u001b[2K     \u001b[90m━━━━━━━━━━━━━━━━━━━━━━━━━━━━━━━━━━━━━━━━\u001b[0m \u001b[32m45.0/45.0 KB\u001b[0m \u001b[31m3.2 MB/s\u001b[0m eta \u001b[36m0:00:00\u001b[0m\n",
            "\u001b[?25hCollecting homebase>=1.0\n",
            "  Downloading homebase-1.0.1-py2.py3-none-any.whl (11 kB)\n",
            "Requirement already satisfied: click>=7.0 in /usr/local/lib/python3.9/dist-packages (from dwave-cloud-client==0.10.4->dwave-ocean-sdk) (8.1.3)\n",
            "Requirement already satisfied: networkx in /usr/local/lib/python3.9/dist-packages (from dwave-hybrid==0.6.10->dwave-ocean-sdk) (3.0)\n",
            "Requirement already satisfied: importlib-metadata>=4.8 in /usr/local/lib/python3.9/dist-packages (from dwave-inspector==0.4.1->dwave-ocean-sdk) (6.0.0)\n",
            "Requirement already satisfied: Flask>=2.2 in /usr/local/lib/python3.9/dist-packages (from dwave-inspector==0.4.1->dwave-ocean-sdk) (2.2.3)\n",
            "Collecting networkx\n",
            "  Downloading networkx-2.8.8-py3-none-any.whl (2.0 MB)\n",
            "\u001b[2K     \u001b[90m━━━━━━━━━━━━━━━━━━━━━━━━━━━━━━━━━━━━━━━━\u001b[0m \u001b[32m2.0/2.0 MB\u001b[0m \u001b[31m69.0 MB/s\u001b[0m eta \u001b[36m0:00:00\u001b[0m\n",
            "\u001b[?25hRequirement already satisfied: scipy>=1.7.3 in /usr/local/lib/python3.9/dist-packages (from dwave-system==1.18.0->dwave-ocean-sdk) (1.10.1)\n",
            "Collecting rectangle-packer>=2.0.1\n",
            "  Downloading rectangle_packer-2.0.1-cp39-cp39-manylinux_2_5_x86_64.manylinux1_x86_64.manylinux_2_17_x86_64.manylinux2014_x86_64.whl (299 kB)\n",
            "\u001b[2K     \u001b[90m━━━━━━━━━━━━━━━━━━━━━━━━━━━━━━━━━━━━━━\u001b[0m \u001b[32m300.0/300.0 KB\u001b[0m \u001b[31m23.1 MB/s\u001b[0m eta \u001b[36m0:00:00\u001b[0m\n",
            "\u001b[?25hCollecting fasteners\n",
            "  Downloading fasteners-0.18-py3-none-any.whl (18 kB)\n",
            "Collecting Deprecated>=1.2.12\n",
            "  Downloading Deprecated-1.2.13-py2.py3-none-any.whl (9.6 kB)\n",
            "Requirement already satisfied: six>=1.15.0 in /usr/local/lib/python3.9/dist-packages (from pyqubo==1.4.0->dwave-ocean-sdk) (1.16.0)\n",
            "Requirement already satisfied: wrapt<2,>=1.10 in /usr/local/lib/python3.9/dist-packages (from Deprecated>=1.2.12->pyqubo==1.4.0->dwave-ocean-sdk) (1.15.0)\n",
            "Requirement already satisfied: Jinja2>=3.0 in /usr/local/lib/python3.9/dist-packages (from Flask>=2.2->dwave-inspector==0.4.1->dwave-ocean-sdk) (3.1.2)\n",
            "Requirement already satisfied: itsdangerous>=2.0 in /usr/local/lib/python3.9/dist-packages (from Flask>=2.2->dwave-inspector==0.4.1->dwave-ocean-sdk) (2.1.2)\n",
            "Requirement already satisfied: Werkzeug>=2.2.2 in /usr/local/lib/python3.9/dist-packages (from Flask>=2.2->dwave-inspector==0.4.1->dwave-ocean-sdk) (2.2.3)\n",
            "Requirement already satisfied: zipp>=0.5 in /usr/local/lib/python3.9/dist-packages (from importlib-metadata>=4.8->dwave-inspector==0.4.1->dwave-ocean-sdk) (3.15.0)\n",
            "Requirement already satisfied: typing-extensions>=4.2.0 in /usr/local/lib/python3.9/dist-packages (from pydantic>=1.7.3->dwave-cloud-client==0.10.4->dwave-ocean-sdk) (4.5.0)\n",
            "Requirement already satisfied: idna<4,>=2.5 in /usr/local/lib/python3.9/dist-packages (from requests[socks]>=2.18->dwave-cloud-client==0.10.4->dwave-ocean-sdk) (3.4)\n",
            "Requirement already satisfied: charset-normalizer<4,>=2 in /usr/local/lib/python3.9/dist-packages (from requests[socks]>=2.18->dwave-cloud-client==0.10.4->dwave-ocean-sdk) (2.0.12)\n",
            "Requirement already satisfied: urllib3<1.27,>=1.21.1 in /usr/local/lib/python3.9/dist-packages (from requests[socks]>=2.18->dwave-cloud-client==0.10.4->dwave-ocean-sdk) (1.26.15)\n",
            "Requirement already satisfied: certifi>=2017.4.17 in /usr/local/lib/python3.9/dist-packages (from requests[socks]>=2.18->dwave-cloud-client==0.10.4->dwave-ocean-sdk) (2022.12.7)\n",
            "Requirement already satisfied: PySocks!=1.5.7,>=1.5.6 in /usr/local/lib/python3.9/dist-packages (from requests[socks]>=2.18->dwave-cloud-client==0.10.4->dwave-ocean-sdk) (1.7.1)\n",
            "Requirement already satisfied: MarkupSafe>=2.0 in /usr/local/lib/python3.9/dist-packages (from Jinja2>=3.0->Flask>=2.2->dwave-inspector==0.4.1->dwave-ocean-sdk) (2.1.2)\n",
            "Installing collected packages: rectangle-packer, plucky, homebase, networkx, fasteners, diskcache, dimod, Deprecated, penaltymodel, dwave-samplers, dwave-preprocessing, dwave-networkx, minorminer, dwavebinarycsp, dwave-tabu, dwave-neal, dwave-greedy, dwave-cloud-client, pyqubo, dwave-system, dwave-inspector, dwave-hybrid, dwave-ocean-sdk\n",
            "  Attempting uninstall: networkx\n",
            "    Found existing installation: networkx 3.0\n",
            "    Uninstalling networkx-3.0:\n",
            "      Successfully uninstalled networkx-3.0\n",
            "  Attempting uninstall: dimod\n",
            "    Found existing installation: dimod 0.12.4\n",
            "    Uninstalling dimod-0.12.4:\n",
            "      Successfully uninstalled dimod-0.12.4\n",
            "Successfully installed Deprecated-1.2.13 dimod-0.12.3 diskcache-5.4.0 dwave-cloud-client-0.10.4 dwave-greedy-0.3.0 dwave-hybrid-0.6.10 dwave-inspector-0.4.1 dwave-neal-0.6.0 dwave-networkx-0.8.13 dwave-ocean-sdk-6.3.0 dwave-preprocessing-0.5.4 dwave-samplers-1.0.0 dwave-system-1.18.0 dwave-tabu-0.5.0 dwavebinarycsp-0.2.0 fasteners-0.18 homebase-1.0.1 minorminer-0.2.11 networkx-2.8.8 penaltymodel-1.0.2 plucky-0.4.3 pyqubo-1.4.0 rectangle-packer-2.0.1\n"
          ]
        }
      ]
    },
    {
      "cell_type": "code",
      "source": [
        "pip install phonemizer"
      ],
      "metadata": {
        "id": "jk90ppHAjptL",
        "colab": {
          "base_uri": "https://localhost:8080/"
        },
        "outputId": "f2ae9b4c-e191-43c2-e1f7-baf4b34c7a4e"
      },
      "execution_count": 6,
      "outputs": [
        {
          "output_type": "stream",
          "name": "stdout",
          "text": [
            "Looking in indexes: https://pypi.org/simple, https://us-python.pkg.dev/colab-wheels/public/simple/\n",
            "Collecting phonemizer\n",
            "  Downloading phonemizer-3.2.1-py3-none-any.whl (90 kB)\n",
            "\u001b[2K     \u001b[90m━━━━━━━━━━━━━━━━━━━━━━━━━━━━━━━━━━━━━━━━\u001b[0m \u001b[32m90.6/90.6 KB\u001b[0m \u001b[31m2.9 MB/s\u001b[0m eta \u001b[36m0:00:00\u001b[0m\n",
            "\u001b[?25hRequirement already satisfied: joblib in /usr/local/lib/python3.9/dist-packages (from phonemizer) (1.1.1)\n",
            "Collecting segments\n",
            "  Downloading segments-2.2.1-py2.py3-none-any.whl (15 kB)\n",
            "Collecting dlinfo\n",
            "  Downloading dlinfo-1.2.1-py3-none-any.whl (3.6 kB)\n",
            "Requirement already satisfied: attrs>=18.1 in /usr/local/lib/python3.9/dist-packages (from phonemizer) (22.2.0)\n",
            "Requirement already satisfied: typing-extensions in /usr/local/lib/python3.9/dist-packages (from phonemizer) (4.5.0)\n",
            "Requirement already satisfied: regex in /usr/local/lib/python3.9/dist-packages (from segments->phonemizer) (2022.10.31)\n",
            "Collecting csvw>=1.5.6\n",
            "  Downloading csvw-3.1.3-py2.py3-none-any.whl (56 kB)\n",
            "\u001b[2K     \u001b[90m━━━━━━━━━━━━━━━━━━━━━━━━━━━━━━━━━━━━━━━━\u001b[0m \u001b[32m56.7/56.7 KB\u001b[0m \u001b[31m4.5 MB/s\u001b[0m eta \u001b[36m0:00:00\u001b[0m\n",
            "\u001b[?25hCollecting clldutils>=1.7.3\n",
            "  Downloading clldutils-3.19.0-py2.py3-none-any.whl (1.7 MB)\n",
            "\u001b[2K     \u001b[90m━━━━━━━━━━━━━━━━━━━━━━━━━━━━━━━━━━━━━━━━\u001b[0m \u001b[32m1.7/1.7 MB\u001b[0m \u001b[31m24.0 MB/s\u001b[0m eta \u001b[36m0:00:00\u001b[0m\n",
            "\u001b[?25hRequirement already satisfied: python-dateutil in /usr/local/lib/python3.9/dist-packages (from clldutils>=1.7.3->segments->phonemizer) (2.8.2)\n",
            "Requirement already satisfied: tabulate>=0.7.7 in /usr/local/lib/python3.9/dist-packages (from clldutils>=1.7.3->segments->phonemizer) (0.8.10)\n",
            "Collecting colorlog\n",
            "  Downloading colorlog-6.7.0-py2.py3-none-any.whl (11 kB)\n",
            "Requirement already satisfied: lxml in /usr/local/lib/python3.9/dist-packages (from clldutils>=1.7.3->segments->phonemizer) (4.9.2)\n",
            "Collecting pylatexenc\n",
            "  Downloading pylatexenc-2.10.tar.gz (162 kB)\n",
            "\u001b[2K     \u001b[90m━━━━━━━━━━━━━━━━━━━━━━━━━━━━━━━━━━━━━━\u001b[0m \u001b[32m162.6/162.6 KB\u001b[0m \u001b[31m15.8 MB/s\u001b[0m eta \u001b[36m0:00:00\u001b[0m\n",
            "\u001b[?25h  Preparing metadata (setup.py) ... \u001b[?25l\u001b[?25hdone\n",
            "Requirement already satisfied: markdown in /usr/local/lib/python3.9/dist-packages (from clldutils>=1.7.3->segments->phonemizer) (3.4.1)\n",
            "Requirement already satisfied: markupsafe in /usr/local/lib/python3.9/dist-packages (from clldutils>=1.7.3->segments->phonemizer) (2.1.2)\n",
            "Requirement already satisfied: jsonschema in /usr/local/lib/python3.9/dist-packages (from csvw>=1.5.6->segments->phonemizer) (4.3.3)\n",
            "Collecting rfc3986<2\n",
            "  Downloading rfc3986-1.5.0-py2.py3-none-any.whl (31 kB)\n",
            "Collecting language-tags\n",
            "  Downloading language_tags-1.2.0-py3-none-any.whl (213 kB)\n",
            "\u001b[2K     \u001b[90m━━━━━━━━━━━━━━━━━━━━━━━━━━━━━━━━━━━━━━\u001b[0m \u001b[32m213.4/213.4 KB\u001b[0m \u001b[31m17.0 MB/s\u001b[0m eta \u001b[36m0:00:00\u001b[0m\n",
            "\u001b[?25hRequirement already satisfied: babel in /usr/local/lib/python3.9/dist-packages (from csvw>=1.5.6->segments->phonemizer) (2.12.1)\n",
            "Requirement already satisfied: requests in /usr/local/lib/python3.9/dist-packages (from csvw>=1.5.6->segments->phonemizer) (2.28.2)\n",
            "Requirement already satisfied: uritemplate>=3.0.0 in /usr/local/lib/python3.9/dist-packages (from csvw>=1.5.6->segments->phonemizer) (4.1.1)\n",
            "Collecting colorama\n",
            "  Downloading colorama-0.4.6-py2.py3-none-any.whl (25 kB)\n",
            "Collecting isodate\n",
            "  Downloading isodate-0.6.1-py2.py3-none-any.whl (41 kB)\n",
            "\u001b[2K     \u001b[90m━━━━━━━━━━━━━━━━━━━━━━━━━━━━━━━━━━━━━━━━\u001b[0m \u001b[32m41.7/41.7 KB\u001b[0m \u001b[31m2.8 MB/s\u001b[0m eta \u001b[36m0:00:00\u001b[0m\n",
            "\u001b[?25hCollecting rdflib\n",
            "  Downloading rdflib-6.3.1-py3-none-any.whl (527 kB)\n",
            "\u001b[2K     \u001b[90m━━━━━━━━━━━━━━━━━━━━━━━━━━━━━━━━━━━━━━\u001b[0m \u001b[32m527.0/527.0 KB\u001b[0m \u001b[31m29.1 MB/s\u001b[0m eta \u001b[36m0:00:00\u001b[0m\n",
            "\u001b[?25hRequirement already satisfied: six in /usr/local/lib/python3.9/dist-packages (from isodate->csvw>=1.5.6->segments->phonemizer) (1.16.0)\n",
            "Requirement already satisfied: pyrsistent!=0.17.0,!=0.17.1,!=0.17.2,>=0.14.0 in /usr/local/lib/python3.9/dist-packages (from jsonschema->csvw>=1.5.6->segments->phonemizer) (0.19.3)\n",
            "Requirement already satisfied: importlib-metadata>=4.4 in /usr/local/lib/python3.9/dist-packages (from markdown->clldutils>=1.7.3->segments->phonemizer) (6.0.0)\n",
            "Requirement already satisfied: pyparsing<4,>=2.1.0 in /usr/local/lib/python3.9/dist-packages (from rdflib->csvw>=1.5.6->segments->phonemizer) (3.0.9)\n",
            "Requirement already satisfied: certifi>=2017.4.17 in /usr/local/lib/python3.9/dist-packages (from requests->csvw>=1.5.6->segments->phonemizer) (2022.12.7)\n",
            "Requirement already satisfied: charset-normalizer<4,>=2 in /usr/local/lib/python3.9/dist-packages (from requests->csvw>=1.5.6->segments->phonemizer) (2.0.12)\n",
            "Requirement already satisfied: urllib3<1.27,>=1.21.1 in /usr/local/lib/python3.9/dist-packages (from requests->csvw>=1.5.6->segments->phonemizer) (1.26.15)\n",
            "Requirement already satisfied: idna<4,>=2.5 in /usr/local/lib/python3.9/dist-packages (from requests->csvw>=1.5.6->segments->phonemizer) (3.4)\n",
            "Requirement already satisfied: zipp>=0.5 in /usr/local/lib/python3.9/dist-packages (from importlib-metadata>=4.4->markdown->clldutils>=1.7.3->segments->phonemizer) (3.15.0)\n",
            "Building wheels for collected packages: pylatexenc\n",
            "  Building wheel for pylatexenc (setup.py) ... \u001b[?25l\u001b[?25hdone\n",
            "  Created wheel for pylatexenc: filename=pylatexenc-2.10-py3-none-any.whl size=136831 sha256=96f2143aac74c9e42fe3d4538d7f678e42e08cf39303d5d7665a215b746ca1e0\n",
            "  Stored in directory: /root/.cache/pip/wheels/a3/68/66/2f15abd0673d83c02f354115feedeb89c3daed2ac319b11090\n",
            "Successfully built pylatexenc\n",
            "Installing collected packages: rfc3986, pylatexenc, language-tags, dlinfo, isodate, colorlog, colorama, rdflib, csvw, clldutils, segments, phonemizer\n",
            "Successfully installed clldutils-3.19.0 colorama-0.4.6 colorlog-6.7.0 csvw-3.1.3 dlinfo-1.2.1 isodate-0.6.1 language-tags-1.2.0 phonemizer-3.2.1 pylatexenc-2.10 rdflib-6.3.1 rfc3986-1.5.0 segments-2.2.1\n"
          ]
        }
      ]
    },
    {
      "cell_type": "code",
      "source": [
        "!apt-get install -y espeak"
      ],
      "metadata": {
        "id": "eVv1VHMujufM",
        "colab": {
          "base_uri": "https://localhost:8080/"
        },
        "outputId": "f420c193-4588-4fc6-901e-da4702dfdddb"
      },
      "execution_count": 7,
      "outputs": [
        {
          "output_type": "stream",
          "name": "stdout",
          "text": [
            "Reading package lists... Done\n",
            "Building dependency tree       \n",
            "Reading state information... Done\n",
            "The following additional packages will be installed:\n",
            "  espeak-data libespeak1 libportaudio2 libsonic0\n",
            "The following NEW packages will be installed:\n",
            "  espeak espeak-data libespeak1 libportaudio2 libsonic0\n",
            "0 upgraded, 5 newly installed, 0 to remove and 23 not upgraded.\n",
            "Need to get 1,220 kB of archives.\n",
            "After this operation, 3,060 kB of additional disk space will be used.\n",
            "Get:1 http://archive.ubuntu.com/ubuntu focal/universe amd64 libportaudio2 amd64 19.6.0-1build1 [65.4 kB]\n",
            "Get:2 http://archive.ubuntu.com/ubuntu focal/main amd64 libsonic0 amd64 0.2.0-8 [13.1 kB]\n",
            "Get:3 http://archive.ubuntu.com/ubuntu focal/universe amd64 espeak-data amd64 1.48.04+dfsg-8build1 [932 kB]\n",
            "Get:4 http://archive.ubuntu.com/ubuntu focal/universe amd64 libespeak1 amd64 1.48.04+dfsg-8build1 [147 kB]\n",
            "Get:5 http://archive.ubuntu.com/ubuntu focal/universe amd64 espeak amd64 1.48.04+dfsg-8build1 [61.8 kB]\n",
            "Fetched 1,220 kB in 0s (3,919 kB/s)\n",
            "Selecting previously unselected package libportaudio2:amd64.\n",
            "(Reading database ... 128276 files and directories currently installed.)\n",
            "Preparing to unpack .../libportaudio2_19.6.0-1build1_amd64.deb ...\n",
            "Unpacking libportaudio2:amd64 (19.6.0-1build1) ...\n",
            "Selecting previously unselected package libsonic0:amd64.\n",
            "Preparing to unpack .../libsonic0_0.2.0-8_amd64.deb ...\n",
            "Unpacking libsonic0:amd64 (0.2.0-8) ...\n",
            "Selecting previously unselected package espeak-data:amd64.\n",
            "Preparing to unpack .../espeak-data_1.48.04+dfsg-8build1_amd64.deb ...\n",
            "Unpacking espeak-data:amd64 (1.48.04+dfsg-8build1) ...\n",
            "Selecting previously unselected package libespeak1:amd64.\n",
            "Preparing to unpack .../libespeak1_1.48.04+dfsg-8build1_amd64.deb ...\n",
            "Unpacking libespeak1:amd64 (1.48.04+dfsg-8build1) ...\n",
            "Selecting previously unselected package espeak.\n",
            "Preparing to unpack .../espeak_1.48.04+dfsg-8build1_amd64.deb ...\n",
            "Unpacking espeak (1.48.04+dfsg-8build1) ...\n",
            "Setting up libportaudio2:amd64 (19.6.0-1build1) ...\n",
            "Setting up libsonic0:amd64 (0.2.0-8) ...\n",
            "Setting up espeak-data:amd64 (1.48.04+dfsg-8build1) ...\n",
            "Setting up libespeak1:amd64 (1.48.04+dfsg-8build1) ...\n",
            "Setting up espeak (1.48.04+dfsg-8build1) ...\n",
            "Processing triggers for man-db (2.9.1-1) ...\n",
            "Processing triggers for libc-bin (2.31-0ubuntu9.9) ...\n"
          ]
        }
      ]
    },
    {
      "cell_type": "code",
      "source": [
        "pip install python-Levenshtein"
      ],
      "metadata": {
        "id": "dO6nmbX_j1NN",
        "colab": {
          "base_uri": "https://localhost:8080/"
        },
        "outputId": "0fa7115f-22c2-4a4d-ecef-29c78c88576a"
      },
      "execution_count": 8,
      "outputs": [
        {
          "output_type": "stream",
          "name": "stdout",
          "text": [
            "Looking in indexes: https://pypi.org/simple, https://us-python.pkg.dev/colab-wheels/public/simple/\n",
            "Collecting python-Levenshtein\n",
            "  Downloading python_Levenshtein-0.20.9-py3-none-any.whl (9.4 kB)\n",
            "Collecting Levenshtein==0.20.9\n",
            "  Downloading Levenshtein-0.20.9-cp39-cp39-manylinux_2_17_x86_64.manylinux2014_x86_64.whl (175 kB)\n",
            "\u001b[2K     \u001b[90m━━━━━━━━━━━━━━━━━━━━━━━━━━━━━━━━━━━━━━━\u001b[0m \u001b[32m175.5/175.5 KB\u001b[0m \u001b[31m4.4 MB/s\u001b[0m eta \u001b[36m0:00:00\u001b[0m\n",
            "\u001b[?25hCollecting rapidfuzz<3.0.0,>=2.3.0\n",
            "  Downloading rapidfuzz-2.13.7-cp39-cp39-manylinux_2_17_x86_64.manylinux2014_x86_64.whl (2.2 MB)\n",
            "\u001b[2K     \u001b[90m━━━━━━━━━━━━━━━━━━━━━━━━━━━━━━━━━━━━━━━━\u001b[0m \u001b[32m2.2/2.2 MB\u001b[0m \u001b[31m32.1 MB/s\u001b[0m eta \u001b[36m0:00:00\u001b[0m\n",
            "\u001b[?25hInstalling collected packages: rapidfuzz, Levenshtein, python-Levenshtein\n",
            "Successfully installed Levenshtein-0.20.9 python-Levenshtein-0.20.9 rapidfuzz-2.13.7\n"
          ]
        }
      ]
    },
    {
      "cell_type": "code",
      "source": [
        "!git clone https://github.com/54microlong/Japanese-Phonetic-Notation"
      ],
      "metadata": {
        "id": "_mnraO8ej5Ec",
        "colab": {
          "base_uri": "https://localhost:8080/"
        },
        "outputId": "9053e004-954a-44b8-d83b-0bc64901fbef"
      },
      "execution_count": 9,
      "outputs": [
        {
          "output_type": "stream",
          "name": "stdout",
          "text": [
            "Cloning into 'Japanese-Phonetic-Notation'...\n",
            "remote: Enumerating objects: 37, done.\u001b[K\n",
            "remote: Total 37 (delta 0), reused 0 (delta 0), pack-reused 37\u001b[K\n",
            "Unpacking objects: 100% (37/37), 883.93 KiB | 5.05 MiB/s, done.\n"
          ]
        }
      ]
    },
    {
      "cell_type": "code",
      "source": [
        "!pip install pykakasi"
      ],
      "metadata": {
        "id": "HhWHfgRlj-r-",
        "colab": {
          "base_uri": "https://localhost:8080/"
        },
        "outputId": "9a946be5-6056-448c-a8c4-f7db155a05d2"
      },
      "execution_count": 10,
      "outputs": [
        {
          "output_type": "stream",
          "name": "stdout",
          "text": [
            "Looking in indexes: https://pypi.org/simple, https://us-python.pkg.dev/colab-wheels/public/simple/\n",
            "Collecting pykakasi\n",
            "  Downloading pykakasi-2.2.1-py3-none-any.whl (2.4 MB)\n",
            "\u001b[2K     \u001b[90m━━━━━━━━━━━━━━━━━━━━━━━━━━━━━━━━━━━━━━━━\u001b[0m \u001b[32m2.4/2.4 MB\u001b[0m \u001b[31m23.9 MB/s\u001b[0m eta \u001b[36m0:00:00\u001b[0m\n",
            "\u001b[?25hCollecting jaconv\n",
            "  Downloading jaconv-0.3.4.tar.gz (16 kB)\n",
            "  Preparing metadata (setup.py) ... \u001b[?25l\u001b[?25hdone\n",
            "Requirement already satisfied: deprecated in /usr/local/lib/python3.9/dist-packages (from pykakasi) (1.2.13)\n",
            "Requirement already satisfied: wrapt<2,>=1.10 in /usr/local/lib/python3.9/dist-packages (from deprecated->pykakasi) (1.15.0)\n",
            "Building wheels for collected packages: jaconv\n",
            "  Building wheel for jaconv (setup.py) ... \u001b[?25l\u001b[?25hdone\n",
            "  Created wheel for jaconv: filename=jaconv-0.3.4-py3-none-any.whl size=16416 sha256=2caee5423731f5357bf65de4f45137185a671ab8fc25c85926c437fedfd94ddb\n",
            "  Stored in directory: /root/.cache/pip/wheels/49/de/f1/55f605920db3666d30215331bc85f24686dde9b95b473ae41b\n",
            "Successfully built jaconv\n",
            "Installing collected packages: jaconv, pykakasi\n",
            "Successfully installed jaconv-0.3.4 pykakasi-2.2.1\n"
          ]
        }
      ]
    },
    {
      "cell_type": "code",
      "source": [
        "#辞書の選択\n",
        "WHITE_GOAT = 1 #白ヤギコーポレーション\n",
        "CHIVE = 2 #chiVe\n",
        "TOHOKU = 3 #東北大学 乾・岡崎研究室\n",
        "dict_mode = CHIVE"
      ],
      "metadata": {
        "id": "89kR1IcjrhGJ"
      },
      "execution_count": 11,
      "outputs": []
    },
    {
      "cell_type": "markdown",
      "source": [
        "wordvecはすべてここで読み込む"
      ],
      "metadata": {
        "id": "xtNUughir7c3"
      }
    },
    {
      "cell_type": "code",
      "source": [
        "if dict_mode == WHITE_GOAT:\n",
        "  !wget \"http://public.shiroyagi.s3.amazonaws.com/latest-ja-word2vec-gensim-model.zip\""
      ],
      "metadata": {
        "id": "6fVxfgLermwq"
      },
      "execution_count": 12,
      "outputs": []
    },
    {
      "cell_type": "code",
      "source": [
        "if dict_mode == WHITE_GOAT:\n",
        "  !unzip \"latest-ja-word2vec-gensim-model.zip\" -d \"word2vec\""
      ],
      "metadata": {
        "id": "AM8KH-BSrpDi"
      },
      "execution_count": 13,
      "outputs": []
    },
    {
      "cell_type": "code",
      "source": [
        "if dict_mode == CHIVE:\n",
        "  #!wget \"https://sudachi.s3-ap-northeast-1.amazonaws.com/chive/chive-1.2-mc15_gensim.tar.gz\"\n",
        "  #!wget \"https://sudachi.s3-ap-northeast-1.amazonaws.com/chive/chive-1.1-mc90_gensim.tar.gz\"\n",
        "  !wget \"https://sudachi.s3-ap-northeast-1.amazonaws.com/chive/chive-1.1-mc90-aunit_gensim.tar.gz\""
      ],
      "metadata": {
        "colab": {
          "base_uri": "https://localhost:8080/"
        },
        "id": "cIdAOZdzrrtS",
        "outputId": "d8fcea3d-5657-409c-b195-7edde0ffc67d"
      },
      "execution_count": 14,
      "outputs": [
        {
          "output_type": "stream",
          "name": "stdout",
          "text": [
            "--2023-03-21 20:38:08--  https://sudachi.s3-ap-northeast-1.amazonaws.com/chive/chive-1.1-mc90-aunit_gensim.tar.gz\n",
            "Resolving sudachi.s3-ap-northeast-1.amazonaws.com (sudachi.s3-ap-northeast-1.amazonaws.com)... 3.5.154.185, 52.219.1.127, 3.5.158.162, ...\n",
            "Connecting to sudachi.s3-ap-northeast-1.amazonaws.com (sudachi.s3-ap-northeast-1.amazonaws.com)|3.5.154.185|:443... connected.\n",
            "HTTP request sent, awaiting response... 200 OK\n",
            "Length: 215019153 (205M) [application/x-gzip]\n",
            "Saving to: ‘chive-1.1-mc90-aunit_gensim.tar.gz’\n",
            "\n",
            "chive-1.1-mc90-auni 100%[===================>] 205.06M  15.6MB/s    in 14s     \n",
            "\n",
            "2023-03-21 20:38:23 (14.7 MB/s) - ‘chive-1.1-mc90-aunit_gensim.tar.gz’ saved [215019153/215019153]\n",
            "\n"
          ]
        }
      ]
    },
    {
      "cell_type": "code",
      "source": [
        "if dict_mode == CHIVE:\n",
        "  #!tar xvf chive-1.2-mc15_gensim.tar.gz\n",
        "  #!tar xvf chive-1.1-mc90_gensim.tar.gz\n",
        "  !tar xvf chive-1.1-mc90-aunit_gensim.tar.gz"
      ],
      "metadata": {
        "colab": {
          "base_uri": "https://localhost:8080/"
        },
        "id": "UTSko5IfrurK",
        "outputId": "ec85afc8-22b3-4773-fda6-09e98e5ae2df"
      },
      "execution_count": 15,
      "outputs": [
        {
          "output_type": "stream",
          "name": "stdout",
          "text": [
            "chive-1.1-mc90-aunit_gensim/\n",
            "chive-1.1-mc90-aunit_gensim/LICENSE\n",
            "chive-1.1-mc90-aunit_gensim/README.md\n",
            "chive-1.1-mc90-aunit_gensim/chive-1.1-mc90-aunit.kv\n",
            "chive-1.1-mc90-aunit_gensim/chive-1.1-mc90-aunit.kv.vectors.npy\n"
          ]
        }
      ]
    },
    {
      "cell_type": "code",
      "source": [
        "if dict_mode == TOHOKU:\n",
        "  !wget \"http://www.cl.ecei.tohoku.ac.jp/~m-suzuki/jawiki_vector/data/20170201.tar.bz2\""
      ],
      "metadata": {
        "id": "4LQ77j5SryAx"
      },
      "execution_count": 16,
      "outputs": []
    },
    {
      "cell_type": "code",
      "source": [
        "if dict_mode == TOHOKU:\n",
        "  !tar xvf 20170201.tar.bz2"
      ],
      "metadata": {
        "id": "XCx7D8f2r2zh"
      },
      "execution_count": 17,
      "outputs": []
    },
    {
      "cell_type": "markdown",
      "source": [
        "webアプリを起動するプログラム"
      ],
      "metadata": {
        "id": "k96CJ-W7kM76"
      }
    },
    {
      "cell_type": "code",
      "source": [
        "from flask import Flask, render_template, request\n",
        "from flask_ngrok import run_with_ngrok\n",
        "import uuid\n",
        "from gensim.models import word2vec\n",
        "import gensim\n",
        "from gensim.models import KeyedVectors\n",
        "import random\n",
        "import dimod\n",
        "from pyqubo import Array, Constraint, Placeholder\n",
        "from dwave.system import DWaveCliqueSampler\n",
        "from openjij import SQASampler\n",
        "import process #関数およびクラスの読み込み\n",
        "\n",
        "app = Flask(__name__)\n",
        "run_with_ngrok(app)  # Start ngrok when app is run\n",
        "\n",
        "parody = \"ここに替え歌が出力されます\"\n",
        "myword = \"まだ選択されていません\"\n",
        "\n",
        "def debug(num): #デバッグ用\n",
        "  print(\"runned by here, num=\", num)\n",
        "\n",
        "def convertLyrics(Lyrics, Words): #歌詞を読み込んで替え歌を出力する関数\n",
        "\n",
        "    #引数からLyricsを読み込み\n",
        "    lyrics_array_temp = Lyrics.translate(str.maketrans({\",\":\"\", \".\":\"\", \"!\":\"\", \"?\":\"\"})).split()\n",
        "    lyrics_array = []\n",
        "    pos_l = 0\n",
        "    pos_ipa_ja = 0\n",
        "\n",
        "    #発音記号に変換\n",
        "    l_ipa_array = process.eng2IPA(lyrics_array_temp)\n",
        "\n",
        "    #日本語風IPAに変換\n",
        "    l_ipa_ja_array = process.japanization(l_ipa_array)\n",
        "\n",
        "    for idx in range(len(lyrics_array_temp)):\n",
        "        l = lyrics_array_temp[idx]\n",
        "        l_len = len(l)\n",
        "        l_ipa = l_ipa_array[idx]\n",
        "        l_ipa_ja = l_ipa_ja_array[idx]\n",
        "        len_ipa_ja = len(l_ipa_ja)\n",
        "        lyrics_array.append([idx, l, pos_l, l_len, l_ipa, l_ipa_ja, pos_ipa_ja, len_ipa_ja])\n",
        "        pos_l += l_len\n",
        "        pos_ipa_ja += len_ipa_ja\n",
        "\n",
        "    debug(0)\n",
        "\n",
        "    #英語の歌詞（日本語風IPA化済み）を結合\n",
        "    l_ipa_ja_all = \"\"\n",
        "    for row in lyrics_array:\n",
        "        l_ipa_ja_all += row[5]\n",
        "\n",
        "    #word2vecの取り込み\n",
        "    if dict_mode == WHITE_GOAT:\n",
        "        model = word2vec.Word2Vec.load(\"word2vec/word2vec.gensim.model\")\n",
        "        vocab = model.wv.index2word\n",
        "\n",
        "    #word2vecの取り込み\n",
        "    if dict_mode == CHIVE:\n",
        "        #  model = gensim.models.KeyedVectors.load('chive-1.2-mc15_gensim/chive-1.2-mc15.kv')\n",
        "        #  model = gensim.models.KeyedVectors.load('chive-1.1-mc90_gensim/chive-1.1-mc90.kv')\n",
        "        model = gensim.models.KeyedVectors.load('chive-1.1-mc90-aunit_gensim/chive-1.1-mc90-aunit.kv')\n",
        "        vocab = model.wv.index2word\n",
        "\n",
        "    #word2vecの取り込み\n",
        "    if dict_mode == TOHOKU:\n",
        "        model = KeyedVectors.load_word2vec_format('entity_vector/entity_vector.model.bin', binary=True)\n",
        "        vocab = model.wv.index2word\n",
        "    \n",
        "    word_dict = process.prepareWordDict(vocab)\n",
        "\n",
        "    debug(1)\n",
        "\n",
        "    #インスタンス生成\n",
        "    k2IPA = process.Kana2IPA(\"Japanese-Phonetic-Notation/Dictionary/kana_to_eng.dic\")\n",
        "\n",
        "    debug(2)\n",
        "    \n",
        "    #引数からkeywordを読み込み\n",
        "    keyword = Words\n",
        "\n",
        "    #word収集\n",
        "    model.most_similar(keyword, topn=20)\n",
        "\n",
        "    #空耳ワード辞書から歌詞と発音一致度が高いワードを抽出\n",
        "    word_opt = process.getWordOpt(word_dict, l_ipa_ja_all, keyword, model)\n",
        "\n",
        "    debug(3)\n",
        "\n",
        "    #ランダムで2000個を抽出\n",
        "    MAX_WORDS = 2000\n",
        "    if len(word_opt) > MAX_WORDS:\n",
        "        words = random.sample(word_opt.MAX_WORDS)\n",
        "    else:\n",
        "        words = word_opt\n",
        "\n",
        "    debug(4)\n",
        "\n",
        "    #空耳ワードの文字の重なりを評価\n",
        "    C = process.makeCmat(words)\n",
        "\n",
        "    #定式化モードの選択\n",
        "    DIMOD = 1\n",
        "    PYQUBO = 2\n",
        "    formula_mode= PYQUBO\n",
        "\n",
        "    if formula_mode == DIMOD:\n",
        "        cqm = dimod.ConstrainedQuadraticModel()\n",
        "        x = []\n",
        "        for i in range(len(words)):\n",
        "            x.append(dimod.Binary(f'x_{i}'))\n",
        "    if formula_mode == PYQUBO:\n",
        "        x = Array.create(name='x', shape=(len(words)), vartype='BINARY')\n",
        "    \n",
        "    #重み付け\n",
        "    lam1 = 1\n",
        "    lam2 = 1\n",
        "    lam3 = 100\n",
        "\n",
        "    debug(5)\n",
        "\n",
        "    #コスト関数\n",
        "    if formula_mode == DIMOD:\n",
        "        cqm.set_objective(\\\n",
        "            -lam1*sum(words[i][4]*x[i] for i in range(len(words)))\\\n",
        "            -lam2*sum(words[i][5]*x[i] for i in range(len(words)))\\\n",
        "            +lam3*sum(sum(C[i][j]*x[i]*x[j] for j in range(i+1,len(words))) for i in range(len(words)))\\\n",
        "            )   \n",
        "\n",
        "    if formula_mode == PYQUBO:\n",
        "        costA = -Placeholder('lam1')*sum(words[i][4]*x[i] for i in range(len(words)))\n",
        "        costB = -Placeholder('lam2')*sum(words[i][5]*x[i] for i in range(len(words)))\n",
        "        costC =  Placeholder('lam3')*sum(sum(C[i][j]*x[i]*x[j] for j in range(i+1,len(words))) for i in range(len(words)))\n",
        "\n",
        "    #変換\n",
        "    if formula_mode == PYQUBO:\n",
        "        cost_func = costA + costB + costC\n",
        "        pyModel = cost_func.compile()\n",
        "\n",
        "    if formula_mode == DIMOD:\n",
        "        bqm, invert = dimod.cqm_to_bqm(cqm,lagrange_multiplier=10)\n",
        "\n",
        "    if formula_mode == PYQUBO:\n",
        "        feed_dict = {'lam1': lam1, 'lam2': lam2, 'lam3': lam3}\n",
        "        qubo, offset = pyModel.to_qubo(feed_dict=feed_dict)\n",
        "    \n",
        "    #Samplerの選択\n",
        "    DWAVE = 1\n",
        "    OPENJIJ = 2\n",
        "    sampler_mode = OPENJIJ\n",
        "\n",
        "    debug(6)\n",
        "\n",
        "    num_reads = 100\n",
        "    if sampler_mode == DWAVE:\n",
        "        from dwave.system import DWaveSampler, EmbeddingComposite\n",
        "        token=\"DEV-92bfbd94d8862c6315dd32cc918c7bc6366091f1\"\n",
        "        #dw_sampler = DWaveSampler(solver='Advantage_system4.1', token=token)\n",
        "        #sampler = EmbeddingComposite(dw_sampler)\n",
        "        #Embeddingが終わらないので全結合で固定化\n",
        "        sampler = DWaveCliqueSampler(solver='Advantage_system6.1', token=token)\n",
        "\n",
        "        if formula_mode == DIMOD:\n",
        "            sampleset = sampler.sample(bqm,num_reads = num_reads)\n",
        "        if formula_mode == PYQUBO:\n",
        "            sampleset = sampler.sample_qubo(qubo, num_reads=num_reads)\n",
        "\n",
        "    if sampler_mode == OPENJIJ:\n",
        "        sampler = SQASampler()\n",
        "        sampleset = sampler.sample_qubo(qubo, num_reads=num_reads)\n",
        "    \n",
        "    res = sampleset.first.sample\n",
        "    sora_word = []\n",
        "    for i in range(len(res)):\n",
        "        if res.get(f'x[{i}]',0) == 1:\n",
        "            sora_word.append(words[i])\n",
        "    sora_word = sorted(sora_word,key=lambda x:(x[6]))\n",
        "\n",
        "    debug(7)\n",
        "\n",
        "    #結果の整形\n",
        "    pos = 0\n",
        "    res_ipa_1 = []\n",
        "    res_ipa_2 = []\n",
        "    res_ja_kana = []\n",
        "    res_ja_kanj = []\n",
        "    for s in sora_word:\n",
        "        if pos < s[6]:\n",
        "            res_ipa_1.append(\"*\"*(s[6]-pos))\n",
        "            res_ipa_2.append(\" \"*(s[6]-pos))\n",
        "            res_ja_kana.append(\"*\"*(s[6]-pos))\n",
        "            res_ja_kanj.append(\"*\"*(s[6]-pos))\n",
        "            pos += s[6]-pos\n",
        "\n",
        "        if pos == s[6]:\n",
        "            res_ipa_1.append(s[2])\n",
        "            res_ipa_2.append(\" \"*(len(s[2])))\n",
        "            res_ja_kana.append(s[1])\n",
        "            res_ja_kanj.append(s[0])\n",
        "            pos += len(s[2])\n",
        "  \n",
        "        elif pos > s[6]:\n",
        "            res_ipa_1.append(\" \"*(len(s[2])-(pos-s[6])))\n",
        "            last = res_ipa_2.pop()\n",
        "            res_ipa_2.append(\" \"*(len(last)-(pos-s[6])))\n",
        "            res_ipa_2.append(s[2])\n",
        "            res_ja_kana.append(s[1])\n",
        "            res_ja_kanj.append(s[0])\n",
        "            pos += len(s[2])-(pos-s[6])\n",
        "\n",
        "    results = \"\".join(res_ja_kana)\n",
        "    \n",
        "    return results\n",
        "\n",
        "@app.route(\"/\", methods=[\"GET\",\"POST\"])\n",
        "def index():\n",
        "    if request.method == 'POST':\n",
        "      id = uuid.uuid1()\n",
        "      readlyrics = request.form.get('input-lyrics') #テキストボックス入力された歌詞を取得\n",
        "      myword = request.form.get('select-word') #今回は使用していないが、どのワードが選択されたか判定可能\n",
        "\n",
        "      word = \"ディズニー\"#クライアントによるワードの選択機能はまだ実装していません\n",
        "    \n",
        "      parody = convertLyrics(readlyrics,word)\n",
        "      return render_template(\"index.html\",myword=word,parody=parody)\n",
        "    else:\n",
        "      return render_template(\"index.html\")\n",
        "\n",
        "if __name__ == '__main__':\n",
        "    app.run()\n",
        "\n",
        "    "
      ],
      "metadata": {
        "id": "ShakCDn33qRH",
        "colab": {
          "base_uri": "https://localhost:8080/"
        },
        "outputId": "8061393f-dd4d-4236-8af7-624d852df206"
      },
      "execution_count": 28,
      "outputs": [
        {
          "output_type": "stream",
          "name": "stdout",
          "text": [
            " * Serving Flask app '__main__'\n",
            " * Debug mode: off\n"
          ]
        },
        {
          "output_type": "stream",
          "name": "stderr",
          "text": [
            "INFO:werkzeug:\u001b[31m\u001b[1mWARNING: This is a development server. Do not use it in a production deployment. Use a production WSGI server instead.\u001b[0m\n",
            " * Running on http://127.0.0.1:5000\n",
            "INFO:werkzeug:\u001b[33mPress CTRL+C to quit\u001b[0m\n"
          ]
        },
        {
          "output_type": "stream",
          "name": "stdout",
          "text": [
            " * Running on http://a912-35-237-20-10.ngrok.io\n",
            " * Traffic stats available on http://127.0.0.1:4040\n"
          ]
        },
        {
          "output_type": "stream",
          "name": "stderr",
          "text": [
            "INFO:werkzeug:127.0.0.1 - - [21/Mar/2023 21:14:05] \"GET / HTTP/1.1\" 200 -\n",
            "INFO:werkzeug:127.0.0.1 - - [21/Mar/2023 21:14:06] \"GET /static/css/style.css HTTP/1.1\" 200 -\n",
            "INFO:werkzeug:127.0.0.1 - - [21/Mar/2023 21:14:06] \"GET /static/js/script.js HTTP/1.1\" 200 -\n",
            "INFO:werkzeug:127.0.0.1 - - [21/Mar/2023 21:14:06] \"\u001b[33mGET /favicon.ico HTTP/1.1\u001b[0m\" 404 -\n",
            "WARNING:phonemizer:words count mismatch on 6.0% of the lines (2/34)\n"
          ]
        },
        {
          "output_type": "stream",
          "name": "stdout",
          "text": [
            "runned by here, num= 0\n",
            "runned by here, num= 1\n",
            "runned by here, num= 2\n",
            "runned by here, num= 3\n",
            "runned by here, num= 4\n",
            "runned by here, num= 5\n",
            "runned by here, num= 3\n",
            "runned by here, num= 4\n",
            "runned by here, num= 5\n",
            "runned by here, num= 6\n",
            "runned by here, num= 6\n"
          ]
        },
        {
          "output_type": "stream",
          "name": "stderr",
          "text": [
            "INFO:werkzeug:127.0.0.1 - - [21/Mar/2023 21:16:53] \"POST / HTTP/1.1\" 200 -\n"
          ]
        },
        {
          "output_type": "stream",
          "name": "stdout",
          "text": [
            "runned by here, num= 7\n"
          ]
        },
        {
          "output_type": "stream",
          "name": "stderr",
          "text": [
            "INFO:werkzeug:127.0.0.1 - - [21/Mar/2023 21:16:54] \"POST / HTTP/1.1\" 200 -\n"
          ]
        },
        {
          "output_type": "stream",
          "name": "stdout",
          "text": [
            "runned by here, num= 7\n",
            "runned by here, num= 3\n",
            "runned by here, num= 4\n",
            "runned by here, num= 5\n",
            "runned by here, num= 6\n"
          ]
        },
        {
          "output_type": "stream",
          "name": "stderr",
          "text": [
            "INFO:werkzeug:127.0.0.1 - - [21/Mar/2023 21:17:36] \"POST / HTTP/1.1\" 200 -\n"
          ]
        },
        {
          "output_type": "stream",
          "name": "stdout",
          "text": [
            "runned by here, num= 7\n"
          ]
        },
        {
          "output_type": "stream",
          "name": "stderr",
          "text": [
            "INFO:werkzeug:127.0.0.1 - - [21/Mar/2023 21:17:36] \"\u001b[36mGET /static/js/script.js HTTP/1.1\u001b[0m\" 304 -\n",
            "INFO:werkzeug:127.0.0.1 - - [21/Mar/2023 21:17:36] \"\u001b[36mGET /static/css/style.css HTTP/1.1\u001b[0m\" 304 -\n"
          ]
        }
      ]
    },
    {
      "cell_type": "code",
      "source": [],
      "metadata": {
        "colab": {
          "base_uri": "https://localhost:8080/",
          "height": 36
        },
        "id": "KLLoOGGtyKIi",
        "outputId": "84d3b762-f8ed-429c-cb1a-73fbe7bb885c"
      },
      "execution_count": null,
      "outputs": [
        {
          "output_type": "execute_result",
          "data": {
            "text/plain": [
              "'**イクスピアリ*アリス**エルサ*ハワイアン*カートゥーン*アンバサダー*ハローハローキキララミニー***キティー**アラジンアリスアリス****ハワイアン*カートゥーン'"
            ],
            "application/vnd.google.colaboratory.intrinsic+json": {
              "type": "string"
            }
          },
          "metadata": {},
          "execution_count": 32
        }
      ]
    }
  ]
}